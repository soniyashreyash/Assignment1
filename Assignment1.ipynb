{
  "nbformat": 4,
  "nbformat_minor": 0,
  "metadata": {
    "colab": {
      "provenance": []
    },
    "kernelspec": {
      "name": "python3",
      "display_name": "Python 3"
    },
    "language_info": {
      "name": "python"
    }
  },
  "cells": [
    {
      "cell_type": "code",
      "execution_count": null,
      "metadata": {
        "id": "Nh_Q9XfcqJsp"
      },
      "outputs": [],
      "source": [
        "\n"
      ]
    },
    {
      "cell_type": "markdown",
      "source": [
        " # Assignment1\n",
        ""
      ],
      "metadata": {
        "id": "lJ1C-62pqpSX"
      }
    },
    {
      "cell_type": "code",
      "source": [],
      "metadata": {
        "id": "mNT8d-zYsnqm"
      },
      "execution_count": null,
      "outputs": []
    },
    {
      "cell_type": "markdown",
      "source": [
        "1. What is the significance of user-centered design in ui/ux ?\n",
        "-> User-Centered Design is a fundamental principle in UI/UX design. Its significance lies in ensuring that the product is designed with the user's needs, behaviours, and goals at the forefront.\n",
        "\n",
        "\n",
        "2. How do wireframe contributes to the UI/UX design process ?\n",
        "-> Wireframe play a crucial role in the UI/UX design process. They are low-fidelity visual guide that outline the structure, layout, and key elements of a user interface without focusing on colour, style, or final visual.\n",
        "\n",
        "\n",
        "3. Explain the role of usability testing in improving in user experience ?\n",
        "-> Usability testing is a critical step in improving user experience. It involves observing real users as they interact with a product like website or app to identify problems, confusion, or frustration they encounter.\n",
        "\n",
        "\n",
        "4. Discuss the importance of accessibility in UI/UX design ?\n",
        "-> Accessibility in UI/UX design is crucial because it ensure that all users, including those with disabilities, can effectively perceive, understand, navigation, and interact with a product.\n",
        "\n",
        "5. What are the key principles of effective visual design in UI/UX ?\n",
        "-> The key principles of effective visual design in UI/UX help create interface that are not only beautiful, but also clear, usable, and user-friendly. These principle guide how visual element are arranged to improve both functions and aesthetics.\n",
        "\n",
        "6. How do personas influence the design decision in UI/UX project ?\n",
        "-> Personas play a powerful role in guiding design decision in UI/UX project. They are fictional representation of real users based on research, created to help team deeply understanding user's needs, behaviours, motivations, and goals.\n"
      ],
      "metadata": {
        "id": "l2KJA8F6qe2-"
      }
    }
  ]
}